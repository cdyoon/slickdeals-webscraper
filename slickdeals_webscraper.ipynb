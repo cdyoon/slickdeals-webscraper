{
 "cells": [
  {
   "cell_type": "code",
   "execution_count": null,
   "id": "56e199d2",
   "metadata": {},
   "outputs": [],
   "source": [
    "import urllib3\n",
    "import requests\n",
    "import re\n",
    "from bs4 import BeautifulSoup \n",
    "import pandas as pd"
   ]
  },
  {
   "cell_type": "code",
   "execution_count": null,
   "id": "ef132f14",
   "metadata": {},
   "outputs": [],
   "source": [
    "#Request the page source, and parse through the page using bs4\n",
    "url = \"https://slickdeals.net/\" \n",
    "page = requests.get(url).content.decode() #Requesting the page source and decoding into human readable string\n",
    "soup = BeautifulSoup(page, 'html.parser') #parsing through page \n",
    "\n",
    "#Create a function that returns an array of all elements that includes the CSS class term\n",
    "def get_text(soup, class_searchterm): #\n",
    "     results = soup.find_all(class_ = class_searchterm) \n",
    "     return [result.text for result in results] \n",
    "\n",
    "item_array = get_text(soup, \"bp-c-card_title bp-c-link\")\n",
    "price_array = get_text(soup, \"bp-p-dealCard_price\")\n",
    "\n",
    "#Create a dictionary and append items and prices \n",
    "data = {'items': [], 'price_array':[]} \n",
    "for index, items in enumerate(item_array):\n",
    "    data['items'].append(items)\n",
    "    data['price_array'].append(price_array[index])\n",
    "\n",
    "#Create a pandas dataframe\n",
    "dataframe = pd.DataFrame.from_dict(data)\n",
    "\n",
    "#Export dictionary to CSV file\n",
    "dataframe.to_csv('slickdeals_frontpage.csv')\n",
    "    \n"
   ]
  }
 ],
 "metadata": {
  "kernelspec": {
   "display_name": "Python 3",
   "language": "python",
   "name": "python3"
  },
  "language_info": {
   "codemirror_mode": {
    "name": "ipython",
    "version": 3
   },
   "file_extension": ".py",
   "mimetype": "text/x-python",
   "name": "python",
   "nbconvert_exporter": "python",
   "pygments_lexer": "ipython3",
   "version": "3.8.8"
  }
 },
 "nbformat": 4,
 "nbformat_minor": 5
}
